{
 "cells": [
  {
   "cell_type": "code",
   "execution_count": 1,
   "metadata": {
    "tags": [
     "keep"
    ]
   },
   "outputs": [],
   "source": [
    "import pandas as pd\n",
    "import matplotlib as mpl\n",
    "import matplotlib.pyplot as plt\n",
    "import numpy as np\n",
    "\n",
    "import sklearn.linear_model as skl_lm\n",
    "\n",
    "from matplotlib.patches import Arc\n",
    "\n",
    "import itertools\n",
    "import math\n",
    "\n",
    "mpl.rcParams['axes.spines.right'] = False\n",
    "mpl.rcParams['axes.spines.top'] = False"
   ]
  },
  {
   "cell_type": "markdown",
   "metadata": {},
   "source": [
    "# 9.2 Analysing goals in football"
   ]
  },
  {
   "cell_type": "markdown",
   "metadata": {},
   "source": [
    "In this exercise, we will consider the data set `data/shots.csv`. This is a collection of all shots and goals in the English premier league for one season. See: https://figshare.com/articles/dataset/Events/7770599"
   ]
  },
  {
   "cell_type": "markdown",
   "metadata": {},
   "source": [
    "## Data\n",
    "'Goal' 1 if a goal, 0 if not a goal\n",
    "'X' x-location along long side of pitch in co-ordinates (0-100)\n",
    "'Y' y-location along short side of pitch (where goal is) in co-ordinates (0-100)\n",
    "'Distance' is distance (in metres) from middle of goal.\n",
    "'Angle' is of a triangle created fom the shot point to the goal mouth (as descibed in lectures)."
   ]
  },
  {
   "cell_type": "code",
   "execution_count": 11,
   "metadata": {
    "tags": [
     "keep"
    ]
   },
   "outputs": [
    {
     "data": {
      "text/html": [
       "<div>\n",
       "<style scoped>\n",
       "    .dataframe tbody tr th:only-of-type {\n",
       "        vertical-align: middle;\n",
       "    }\n",
       "\n",
       "    .dataframe tbody tr th {\n",
       "        vertical-align: top;\n",
       "    }\n",
       "\n",
       "    .dataframe thead th {\n",
       "        text-align: right;\n",
       "    }\n",
       "</style>\n",
       "<table border=\"1\" class=\"dataframe\">\n",
       "  <thead>\n",
       "    <tr style=\"text-align: right;\">\n",
       "      <th></th>\n",
       "      <th>Goal</th>\n",
       "      <th>X</th>\n",
       "      <th>Y</th>\n",
       "      <th>C</th>\n",
       "      <th>Distance</th>\n",
       "      <th>Angle</th>\n",
       "    </tr>\n",
       "  </thead>\n",
       "  <tbody>\n",
       "    <tr>\n",
       "      <th>0</th>\n",
       "      <td>1</td>\n",
       "      <td>12.0</td>\n",
       "      <td>41</td>\n",
       "      <td>9.0</td>\n",
       "      <td>13.891814</td>\n",
       "      <td>0.474451</td>\n",
       "    </tr>\n",
       "    <tr>\n",
       "      <th>1</th>\n",
       "      <td>0</td>\n",
       "      <td>15.0</td>\n",
       "      <td>52</td>\n",
       "      <td>2.0</td>\n",
       "      <td>15.803560</td>\n",
       "      <td>0.453823</td>\n",
       "    </tr>\n",
       "    <tr>\n",
       "      <th>2</th>\n",
       "      <td>0</td>\n",
       "      <td>19.0</td>\n",
       "      <td>33</td>\n",
       "      <td>17.0</td>\n",
       "      <td>22.805811</td>\n",
       "      <td>0.280597</td>\n",
       "    </tr>\n",
       "    <tr>\n",
       "      <th>3</th>\n",
       "      <td>0</td>\n",
       "      <td>25.0</td>\n",
       "      <td>30</td>\n",
       "      <td>20.0</td>\n",
       "      <td>29.292704</td>\n",
       "      <td>0.223680</td>\n",
       "    </tr>\n",
       "    <tr>\n",
       "      <th>4</th>\n",
       "      <td>0</td>\n",
       "      <td>10.0</td>\n",
       "      <td>39</td>\n",
       "      <td>11.0</td>\n",
       "      <td>12.703248</td>\n",
       "      <td>0.479051</td>\n",
       "    </tr>\n",
       "  </tbody>\n",
       "</table>\n",
       "</div>"
      ],
      "text/plain": [
       "   Goal     X   Y     C   Distance     Angle\n",
       "0     1  12.0  41   9.0  13.891814  0.474451\n",
       "1     0  15.0  52   2.0  15.803560  0.453823\n",
       "2     0  19.0  33  17.0  22.805811  0.280597\n",
       "3     0  25.0  30  20.0  29.292704  0.223680\n",
       "4     0  10.0  39  11.0  12.703248  0.479051"
      ]
     },
     "execution_count": 11,
     "metadata": {},
     "output_type": "execute_result"
    }
   ],
   "source": [
    "#Load data for all shots\n",
    "#shots_model=pd.read_csv('data/shots.csv')\n",
    "shots_model = pd.read_csv('https://uu-sml.github.io/course-sml-public/data/shots.csv')\n",
    "shots_model.head()"
   ]
  },
  {
   "cell_type": "markdown",
   "metadata": {},
   "source": [
    "Function for plotting goal mouth "
   ]
  },
  {
   "cell_type": "code",
   "execution_count": 12,
   "metadata": {
    "tags": [
     "keep"
    ]
   },
   "outputs": [],
   "source": [
    "def createGoalMouth():\n",
    "    #Adopted from FC Python\n",
    "    #Create figure\n",
    "    plt.figure()\n",
    "    ax = plt.gca()\n",
    "\n",
    "    linecolor='black'\n",
    "\n",
    "    #Pitch Outline & Centre Line\n",
    "    plt.plot([0,65],[0,0], color=linecolor)\n",
    "    plt.plot([65,65],[50,0], color=linecolor)\n",
    "    plt.plot([0,0],[50,0], color=linecolor)\n",
    "    \n",
    "    #Left Penalty Area\n",
    "    plt.plot([12.5,52.5],[16.5,16.5],color=linecolor)\n",
    "    plt.plot([52.5,52.5],[16.5,0],color=linecolor)\n",
    "    plt.plot([12.5,12.5],[0,16.5],color=linecolor)\n",
    "    \n",
    "    #Left 6-yard Box\n",
    "    plt.plot([41.5,41.5],[5.5,0],color=linecolor)\n",
    "    plt.plot([23.5,41.5],[5.5,5.5],color=linecolor)\n",
    "    plt.plot([23.5,23.5],[0,5.5],color=linecolor)\n",
    "    \n",
    "    #Goal\n",
    "    plt.plot([41.5-5.34,41.5-5.34],[-2,0],color=linecolor)\n",
    "    plt.plot([23.5+5.34,41.5-5.34],[-2,-2],color=linecolor)\n",
    "    plt.plot([23.5+5.34,23.5+5.34],[0,-2],color=linecolor)\n",
    "    \n",
    "    #Prepare Circles\n",
    "    leftPenSpot = plt.Circle((65/2,11),0.8,color=linecolor)\n",
    "    \n",
    "    #Draw Circles\n",
    "    ax.add_patch(leftPenSpot)\n",
    "    \n",
    "    #Prepare Arcs\n",
    "    leftArc = Arc((32.5,11),height=18.3,width=18.3,angle=0,theta1=38,theta2=142,color=linecolor)\n",
    "    \n",
    "    #Draw Arcs\n",
    "    ax.add_patch(leftArc)\n",
    "    \n",
    "    #Set limits\n",
    "    plt.xlim(-1,66)\n",
    "    plt.ylim(-3,35)\n",
    "\n",
    "    #Tidy Axes\n",
    "    plt.axis('off')\n",
    "    \n",
    "    #Set layout\n",
    "    plt.tight_layout()\n",
    "    ax.set_aspect('equal', adjustable='box')"
   ]
  },
  {
   "cell_type": "markdown",
   "metadata": {},
   "source": [
    "## a)\n",
    "The code plot the frequency of the data. "
   ]
  },
  {
   "cell_type": "code",
   "execution_count": 13,
   "metadata": {
    "tags": [
     "keep"
    ]
   },
   "outputs": [
    {
     "data": {
      "image/png": "[encoded data removed]",
      "text/plain": [
       "<Figure size 432x288 with 2 Axes>"
      ]
     },
     "metadata": {
      "needs_background": "light"
     },
     "output_type": "display_data"
    }
   ],
   "source": [
    "# Compute a two-dimensional histogram of shots from different points\n",
    "shotcounts, _, _ = np.histogram2d(shots_model['X'], shots_model['Y'],\n",
    "                                  bins=50, range=[[0, 100],[0, 100]])\n",
    "\n",
    "# Plot the number of shots from different points\n",
    "createGoalMouth()\n",
    "pos = plt.imshow(shotcounts, extent=[-1,66,104,-1], cmap=plt.cm.Reds)\n",
    "plt.colorbar(pos)\n",
    "plt.title('Number of shots')\n",
    "plt.show()"
   ]
  },
  {
   "cell_type": "code",
   "execution_count": 14,
   "metadata": {
    "tags": [
     "keep"
    ]
   },
   "outputs": [
    {
     "data": {
      "image/png": "[encoded data removed]",
      "text/plain": [
       "<Figure size 432x288 with 2 Axes>"
      ]
     },
     "metadata": {
      "needs_background": "light"
     },
     "output_type": "display_data"
    }
   ],
   "source": [
    "# Compute a two-dimensional histogram of goals from different points\n",
    "goals_only = shots_model[shots_model['Goal'] == 1]\n",
    "goalcounts, _, _ = np.histogram2d(goals_only['X'], goals_only['Y'],\n",
    "                                  bins=50, range=[[0, 100],[0, 100]])\n",
    "\n",
    "# Plot the number of goals from different points\n",
    "createGoalMouth()\n",
    "pos = plt.imshow(goalcounts, extent=[-1,66,104,-1], cmap=plt.cm.Reds)\n",
    "plt.colorbar(pos)\n",
    "plt.title('Number of goals')\n",
    "plt.show()"
   ]
  },
  {
   "cell_type": "code",
   "execution_count": 15,
   "metadata": {
    "tags": [
     "keep"
    ]
   },
   "outputs": [
    {
     "data": {
      "image/png": "[encoded data removed]",
      "text/plain": [
       "<Figure size 432x288 with 2 Axes>"
      ]
     },
     "metadata": {
      "needs_background": "light"
     },
     "output_type": "display_data"
    }
   ],
   "source": [
    "# Compute empirical probability of scoring from different points\n",
    "with np.errstate(divide='ignore', invalid='ignore'):\n",
    "    prob_goal = goalcounts / shotcounts\n",
    "\n",
    "# Plot the probability of scoring from different points.\n",
    "createGoalMouth()\n",
    "pos = plt.imshow(prob_goal, extent=[-1,66,104,-1], cmap=plt.cm.Reds,\n",
    "                 vmin=0, vmax=0.5)\n",
    "plt.colorbar(pos)\n",
    "plt.title('Proportion of shots resulting in a goal')\n",
    "plt.show()"
   ]
  },
  {
   "cell_type": "markdown",
   "metadata": {},
   "source": [
    "## b)\n",
    "The code below plots how shot angle determine probability of scoring. It fits a logistic regression model and compares it to data. Make a similar plot for distance to goal. See what happens when you add distance squared."
   ]
  },
  {
   "cell_type": "code",
   "execution_count": 16,
   "metadata": {
    "tags": [
     "keep"
    ]
   },
   "outputs": [
    {
     "data": {
      "image/png": "[encoded data removed]",
      "text/plain": [
       "<Figure size 432x288 with 1 Axes>"
      ]
     },
     "metadata": {
      "needs_background": "light"
     },
     "output_type": "display_data"
    }
   ],
   "source": [
    "# Make single variable model of angle\n",
    "# Using logistic regression we find the optimal parameters\n",
    "X = shots_model[['Angle']]\n",
    "y = shots_model['Goal']\n",
    "model = skl_lm.LogisticRegression(penalty='none')\n",
    "model.fit(X, y)\n",
    "\n",
    "# Bin the angles of shots to compute empirical estimates of the\n",
    "# probabilities of goals scored\n",
    "shotcount_angle, bin_edges = np.histogram(shots_model['Angle'] * 180 / np.pi, bins=40, range=[0, 150])\n",
    "goalcount_angle, _ = np.histogram(goals_only['Angle'] * 180 / np.pi, bins=40, range=[0, 150])\n",
    "\n",
    "# Compute average angle in each bin\n",
    "angle = (bin_edges[:-1] + bin_edges[1:])/2\n",
    "\n",
    "# Empirical estimate of probabilities of goal scored\n",
    "# for bins with at least one shot\n",
    "ibins = np.where(shotcount_angle > 0)\n",
    "prob_goal = goalcount_angle[ibins] / shotcount_angle[ibins]\n",
    "\n",
    "# Compute predictions\n",
    "xGprob = model.predict_proba(angle.reshape(-1, 1) * np.pi / 180) \n",
    "\n",
    "# Plot data and predictions\n",
    "plt.plot(angle[ibins], prob_goal, 'ko')\n",
    "plt.plot(angle, xGprob[:,1], 'k')\n",
    "plt.xlabel(\"Shot angle (degrees)\")\n",
    "plt.ylabel('Probability chance scored')\n",
    "plt.show()"
   ]
  },
  {
   "cell_type": "code",
   "execution_count": 17,
   "metadata": {},
   "outputs": [
    {
     "data": {
      "image/png": "[encoded data removed]",
      "text/plain": [
       "<Figure size 432x288 with 1 Axes>"
      ]
     },
     "metadata": {
      "needs_background": "light"
     },
     "output_type": "display_data"
    }
   ],
   "source": [
    "#<keep>\n",
    "#Show empirically how distance from goal predicts probability of scoring\n",
    "#</keep>\n",
    "\n",
    "# Bin the distances of shots to compute empirical estimates of the\n",
    "# probabilities of goals scored\n",
    "shotcount_dist, bin_edges = np.histogram(shots_model['Distance'], bins=40, range=[0, 70])\n",
    "goalcount_dist, _ = np.histogram(goals_only['Distance'], bins=40, range=[0, 70])\n",
    "\n",
    "# Compute average distance in each bin\n",
    "distance = (bin_edges[:-1] + bin_edges[1:])/2\n",
    "\n",
    "# Empirical estimate of probabilities of goal scored\n",
    "# for bins with at least one shot\n",
    "ibins = np.where(shotcount_dist > 0)\n",
    "prob_goal = goalcount_dist[ibins] / shotcount_dist[ibins]\n",
    "\n",
    "# Plot data\n",
    "plt.plot(distance[ibins], prob_goal, 'ko')\n",
    "plt.xlabel(\"Distance from goal (metres)\")\n",
    "plt.ylabel('Probability chance scored')\n",
    "\n",
    "#<keep>\n",
    "#Make single variable model of distance\n",
    "#</keep>\n",
    "X = shots_model[['Distance']]\n",
    "y = shots_model['Goal']\n",
    "model = skl_lm.LogisticRegression(penalty='none')\n",
    "model.fit(X, y)\n",
    "\n",
    "# Compute predictions and plot them\n",
    "xGprob = model.predict_proba(distance.reshape(-1, 1))\n",
    "plt.plot(distance, xGprob[:,1], 'k')\n",
    "plt.show()"
   ]
  },
  {
   "cell_type": "code",
   "execution_count": 18,
   "metadata": {},
   "outputs": [
    {
     "data": {
      "image/png": "[encoded data removed]",
      "text/plain": [
       "<Figure size 432x288 with 1 Axes>"
      ]
     },
     "metadata": {
      "needs_background": "light"
     },
     "output_type": "display_data"
    }
   ],
   "source": [
    "#<keep>\n",
    "#Adding distance squared\n",
    "#</keep>\n",
    "shots_model['D2'] = shots_model['Distance']**2\n",
    "\n",
    "# Fit logistic regression model\n",
    "X = shots_model[['Distance', 'D2']]\n",
    "y = shots_model['Goal']\n",
    "model = skl_lm.LogisticRegression(penalty='none')\n",
    "model.fit(X, y)\n",
    "\n",
    "# Compute predictions\n",
    "X_test = np.column_stack([distance, distance**2])\n",
    "xGprob = model.predict_proba(X_test)\n",
    "\n",
    "# Plot data and predictions\n",
    "plt.plot(distance[ibins], prob_goal, 'ko')\n",
    "plt.plot(distance, xGprob[:,1], 'k')\n",
    "plt.xlabel(\"Distance from goal (metres)\")\n",
    "plt.ylabel('Probability chance scored')\n",
    "plt.show()"
   ]
  },
  {
   "cell_type": "markdown",
   "metadata": {},
   "source": [
    "## c)\n",
    "By setting `model_variables` in the code below you can test different features. Investigate manually which parameters work best. "
   ]
  },
  {
   "cell_type": "code",
   "execution_count": 19,
   "metadata": {
    "tags": [
     "keep"
    ]
   },
   "outputs": [
    {
     "name": "stdout",
     "output_type": "stream",
     "text": [
      "The number of parameters is: 2\n",
      "The log-likelihood is: -2010.671\n",
      "The AIC is: 4025.341\n"
     ]
    },
    {
     "data": {
      "image/png": "[encoded data removed]",
      "text/plain": [
       "<Figure size 432x288 with 2 Axes>"
      ]
     },
     "metadata": {
      "needs_background": "light"
     },
     "output_type": "display_data"
    }
   ],
   "source": [
    "# Adding even more variables to the model.\n",
    "shots_model['X2'] = shots_model['X']**2\n",
    "shots_model['C2'] = shots_model['C']**2\n",
    "shots_model['AX'] = shots_model['Angle']*shots_model['X']\n",
    "\n",
    "# A general model for fitting goal probability\n",
    "# List the model variables you want here\n",
    "model_variables = ['Distance']\n",
    "\n",
    "# Fit the linear regression model.\n",
    "X = shots_model[model_variables]\n",
    "y = shots_model['Goal']\n",
    "model = skl_lm.LogisticRegression(penalty='none')\n",
    "model.fit(X, y)\n",
    "\n",
    "# Number of parameters of logistic regression model\n",
    "k = model.coef_.size + model.get_params()['fit_intercept']\n",
    "print(f'The number of parameters is: {k:d}')\n",
    "    \n",
    "# Compute maximum log-likelihood\n",
    "n = y.size\n",
    "loglik = np.sum(np.log(model.predict_proba(X)[np.arange(n), y]))\n",
    "print(f'The log-likelihood is: {loglik:.3f}')\n",
    "\n",
    "# Compute AIC\n",
    "AIC = 2 * (k - loglik)\n",
    "print(f'The AIC is: {AIC:.3f}')\n",
    "\n",
    "# Create a 2D map of predicted probabilities\n",
    "pgoal_2d = np.zeros((65,65))\n",
    "for x in range(65):\n",
    "    for y in range(65):\n",
    "        # Compute features for this field\n",
    "        sh = dict()\n",
    "        a = np.arctan(7.32 *x /(x**2 + abs(y-65/2)**2 - (7.32/2)**2))\n",
    "        if a < 0:\n",
    "            a = np.pi + a\n",
    "        sh['Angle'] = a\n",
    "        sh['Distance'] = np.sqrt(x**2 + abs(y-65/2)**2)\n",
    "        sh['D2'] = x**2 + abs(y-65/2)**2\n",
    "        sh['X'] = x\n",
    "        sh['AX'] = x*a\n",
    "        sh['X2'] = x**2\n",
    "        sh['C'] = abs(y-65/2)\n",
    "        sh['C2'] = (y-65/2)**2\n",
    "        \n",
    "        # Compute predictions\n",
    "        X_field = np.array([sh[var] for var in model_variables]).reshape(1, -1)\n",
    "        pgoal_2d[x, y] = model.predict_proba(X_field)[:, 1]\n",
    "\n",
    "# Plot model\n",
    "createGoalMouth()\n",
    "plt.imshow(pgoal_2d, extent=[-1,65,65,-1],\n",
    "           cmap=plt.cm.Reds, vmin=0, vmax=0.3)\n",
    "plt.colorbar(pos)\n",
    "plt.title('Probability of goal')\n",
    "plt.show()"
   ]
  }
 ],
 "metadata": {
  "@webio": {
   "lastCommId": null,
   "lastKernelId": null
  },
  "celltoolbar": "Tags",
  "kernelspec": {
   "display_name": "Python 3 (ipykernel)",
   "language": "python",
   "name": "python3"
  },
  "language_info": {
   "codemirror_mode": {
    "name": "ipython",
    "version": 3
   },
   "file_extension": ".py",
   "mimetype": "text/x-python",
   "name": "python",
   "nbconvert_exporter": "python",
   "pygments_lexer": "ipython3",
   "version": "3.10.4"
  }
 },
 "nbformat": 4,
 "nbformat_minor": 2
}
